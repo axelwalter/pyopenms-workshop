{
 "cells": [
  {
   "cell_type": "code",
   "execution_count": 81,
   "id": "00c35fb9-84f8-4eab-a97c-8300c68b7ba4",
   "metadata": {},
   "outputs": [],
   "source": [
    "from pyopenms import *"
   ]
  },
  {
   "cell_type": "code",
   "execution_count": 82,
   "id": "541d8062",
   "metadata": {},
   "outputs": [],
   "source": [
    "mzML_files = [\"Example_data/Actino_1.mzML\", \"Example_data/Actino_2.mzML\"]\n",
    "feature_maps = []"
   ]
  },
  {
   "cell_type": "code",
   "execution_count": null,
   "id": "0d9840e2",
   "metadata": {},
   "outputs": [],
   "source": [
    "for mzML_file in mzML_files:\n",
    "    exp = MSExperiment()\n",
    "    MzMLFile().load(mzML_file, exp)\n",
    "    exp.sortSpectra(True)\n",
    "\n",
    "    print(\"Mass Trace Detection: \", mzML_file)\n",
    "    mtd = MassTraceDetection()\n",
    "    mtd_par = mtd.getDefaults()\n",
    "    mtd_par.setValue(\"mass_error_ppm\", 10.0) \n",
    "    mtd_par.setValue(\"noise_threshold_int\", 1.0e04)\n",
    "    mtd.setParameters(mtd_par)\n",
    "    mass_traces = []\n",
    "    mtd.run(exp, mass_traces, 0)\n",
    "\n",
    "    print(\"Elution Peak Detection: \", mzML_file)\n",
    "    epd = ElutionPeakDetection()\n",
    "    epd_par = epd.getDefaults()\n",
    "    epd_par.setValue(\"width_filtering\", \"fixed\")\n",
    "    epd.setParameters(epd_par)\n",
    "    mass_traces_final = []\n",
    "    epd.detectPeaks(mass_traces, mass_traces_final)\n",
    "\n",
    "    ffm = FeatureFindingMetabo()\n",
    "    ffm_par = ffm.getDefaults() \n",
    "    ffm_par.setValue(\"isotope_filtering_model\", \"none\")\n",
    "    ffm_par.setValue(\"remove_single_traces\", \"true\")\n",
    "    ffm_par.setValue(\"mz_scoring_by_elements\", \"false\")\n",
    "    ffm_par.setValue(\"report_convex_hulls\", \"true\")\n",
    "    ffm.setParameters(ffm_par)\n",
    "    feature_map = FeatureMap()\n",
    "    feat_chrom = []\n",
    "    ffm.run(mass_traces_final, feature_map, feat_chrom)\n",
    "\n",
    "    feature_map.setUniqueIds()\n",
    "    feature_map.setPrimaryMSRunPath([mzML_file.encode()])\n",
    "    feature_maps.append(feature_map)"
   ]
  },
  {
   "cell_type": "code",
   "execution_count": null,
   "id": "7e8161d9-8311-452f-a82a-7103cfe5dfd1",
   "metadata": {},
   "outputs": [],
   "source": [
    "feature_maps[0].get_df(export_peptide_identifications=False)"
   ]
  },
  {
   "cell_type": "code",
   "execution_count": 85,
   "id": "d63e86a3",
   "metadata": {},
   "outputs": [],
   "source": [
    "aligner = MapAlignmentAlgorithmPoseClustering()\n",
    "aligner_par= aligner.getDefaults()\n",
    "aligner_par.setValue(\"max_num_peaks_considered\", -1)\n",
    "aligner_par.setValue(\"superimposer:mz_pair_max_distance\", 0.05)\n",
    "aligner_par.setValue(\"pairfinder:distance_MZ:max_difference\", 10.0)\n",
    "aligner_par.setValue(\"pairfinder:distance_MZ:unit\", \"ppm\")\n",
    "aligner.setParameters(aligner_par)\n",
    "\n",
    "ref_index = feature_maps.index(sorted(feature_maps, key=lambda x:x.size())[-1])\n",
    "aligner.setReference(feature_maps[ref_index])\n",
    "\n",
    "for feature_map in feature_maps[:ref_index] + feature_maps[ref_index+1:]:\n",
    "    trafo = TransformationDescription()\n",
    "    aligner.align(feature_map, trafo)\n",
    "    transformer = MapAlignmentTransformer()\n",
    "    transformer.transformRetentionTimes(feature_map, trafo, True)"
   ]
  },
  {
   "cell_type": "code",
   "execution_count": null,
   "id": "8d9cec5e",
   "metadata": {},
   "outputs": [],
   "source": [
    "feature_grouper = FeatureGroupingAlgorithmKD()\n",
    "\n",
    "consensus_map = ConsensusMap()\n",
    "file_descriptions = consensus_map.getColumnHeaders()\n",
    "\n",
    "for i, feature_map in enumerate(feature_maps):\n",
    "    file_description = file_descriptions.get(i, ColumnHeader())\n",
    "    file_description.filename = os.path.basename(feature_map.getMetaValue(\"spectra_data\")[0].decode())\n",
    "    file_description.size = feature_map.size()\n",
    "    file_descriptions[i] = file_description\n",
    "\n",
    "feature_grouper.group(feature_maps, consensus_map)\n",
    "consensus_map.setColumnHeaders(file_descriptions)"
   ]
  },
  {
   "cell_type": "code",
   "execution_count": null,
   "id": "163c7f30",
   "metadata": {},
   "outputs": [],
   "source": [
    "result = consensus_map.get_df()\n",
    "result"
   ]
  },
  {
   "cell_type": "code",
   "execution_count": 88,
   "id": "feaa92d4",
   "metadata": {},
   "outputs": [],
   "source": [
    "ConsensusXMLFile().store(\"results/ConsensusFeatures.consensusXML\", consensus_map)\n",
    "\n",
    "result.to_csv(\"results/FeatureMatrix.tsv\", sep = '\\t', index = False)"
   ]
  }
 ],
 "metadata": {
  "kernelspec": {
   "display_name": "Python 3 (ipykernel)",
   "language": "python",
   "name": "python3"
  },
  "language_info": {
   "codemirror_mode": {
    "name": "ipython",
    "version": 3
   },
   "file_extension": ".py",
   "mimetype": "text/x-python",
   "name": "python",
   "nbconvert_exporter": "python",
   "pygments_lexer": "ipython3",
   "version": "3.9.7"
  }
 },
 "nbformat": 4,
 "nbformat_minor": 5
}
