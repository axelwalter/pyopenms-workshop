{
 "cells": [
  {
   "cell_type": "code",
   "execution_count": 1,
   "id": "00c35fb9-84f8-4eab-a97c-8300c68b7ba4",
   "metadata": {},
   "outputs": [
    {
     "name": "stderr",
     "output_type": "stream",
     "text": [
      "Determination of memory status is not supported on this \n",
      " platform, measuring for memoryleaks will never fail\n"
     ]
    }
   ],
   "source": [
    "from pyopenms import *\n",
    "import os\n",
    "import glob"
   ]
  },
  {
   "cell_type": "code",
   "execution_count": 2,
   "id": "5f264557-fc14-4e8b-a69b-f664b4b7d167",
   "metadata": {},
   "outputs": [],
   "source": [
    "path= \"results/interim\"\n",
    "if not os.path.exists(path):\n",
    "    os.mkdir(path)"
   ]
  },
  {
   "cell_type": "code",
   "execution_count": 3,
   "id": "2a763963-7739-46cd-b0ef-801fa8ef9240",
   "metadata": {},
   "outputs": [
    {
     "name": "stdout",
     "output_type": "stream",
     "text": [
      "Processing:  Example_data/Actino_1.mzML\n",
      "Processing:  Example_data/Actino_2.mzML\n",
      "Finished Precursor Mass Correction\n"
     ]
    }
   ],
   "source": [
    "# 1) Precursor Mass Correction\n",
    "\n",
    "input_original_files = glob.glob('Example_data/*.mzML')\n",
    "\n",
    "for filename in input_original_files:\n",
    "    print('Processing: ', filename)\n",
    "    exp = MSExperiment()\n",
    "    MzMLFile().load(filename, exp)\n",
    "    exp.sortSpectra(True)\n",
    "    delta_mzs= []\n",
    "    mzs = []\n",
    "    rts= []\n",
    "    PrecursorCorrection.correctToHighestIntensityMS1Peak(exp, 100.0, True, delta_mzs, mzs, rts)\n",
    "    MzMLFile().store(os.path.join(path, 'PCpeak_' + os.path.basename(filename)), exp)\n",
    "print('Finished Precursor Mass Correction')"
   ]
  },
  {
   "cell_type": "code",
   "execution_count": 4,
   "id": "4c3c4e21-1843-4bd9-8044-e97a11b4276d",
   "metadata": {},
   "outputs": [
    {
     "name": "stdout",
     "output_type": "stream",
     "text": [
      "Mass Trace Detection:  results/interim/PCpeak_Actino_2.mzML\n",
      "Progress of 'Elution Peak Detection: mass trace detection':\n",
      "-- done [took 0.27 s (CPU), 0.10 s (Wall)] -- \n",
      " results/interim/PCpeak_Actino_2.mzML\n",
      "Progress of 'elution peak detection':Feature Detection: \n",
      "-- done [took 0.61 s (CPU), 0.18 s (Wall)] -- \n",
      " results/interim/PCpeak_Actino_2.mzML\n",
      "Progress of 'assembling mass traces to features':/interim/PCpeak_Actino_2.featureXML\n",
      "\n",
      "-- done [took 0.48 s (CPU), 0.27 s (Wall)] -- \n",
      "Mass Trace Detection:  results/interim/PCpeak_Actino_1.mzML\n",
      "Progress of 'mass trace detectionElution Peak Detection: ':\n",
      "-- done [took 0.75 s (CPU), 0.12 s (Wall)] -- \n",
      " results/interim/PCpeak_Actino_1.mzML\n",
      "Progress of 'elution peak detection':\n",
      "-- done [took 1.18 s (CPU), 0.19 s (Wall)] -- \n",
      "Feature Detection:  results/interim/PCpeak_Actino_1.mzML\n",
      "Progress of 'assembling mass traces to features':\n",
      "-- done [took 0.89 s (CPU), 0.14 s (Wall)] -- \n",
      "/interim/PCpeak_Actino_1.featureXML\n",
      "Finished Feature Detection\n"
     ]
    }
   ],
   "source": [
    "# 2) Feature Detection\n",
    "\n",
    "input_mzml_files = glob.glob('results/interim/PCpeak_*.mzML')\n",
    "\n",
    "# 2.1) Mass trace detection\n",
    "\n",
    "for filename in input_mzml_files:\n",
    "    print(\"Mass Trace Detection: \", filename)\n",
    "    exp = MSExperiment()\n",
    "    MzMLFile().load(filename, exp)\n",
    "    exp.sortSpectra(True)\n",
    "    mass_traces = []\n",
    "    mtd = MassTraceDetection()\n",
    "    mtd_par = mtd.getDefaults()\n",
    "    mtd_par.setValue(\"mass_error_ppm\", 10.0) \n",
    "    mtd_par.setValue(\"noise_threshold_int\", 1.0e04)\n",
    "    mtd.setParameters(mtd_par)\n",
    "    mtd.run(exp, mass_traces, 0)\n",
    "\n",
    "# 2) Elution peak detection\n",
    "    print(\"Elution Peak Detection: \", filename)\n",
    "    mass_traces_split = []\n",
    "    mass_traces_final = []\n",
    "    epd = ElutionPeakDetection()\n",
    "    epd_par = epd.getDefaults()\n",
    "    epd_par.setValue(\"width_filtering\", \"fixed\")\n",
    "    epd.setParameters(epd_par)\n",
    "    epd.detectPeaks(mass_traces, mass_traces_split)\n",
    "     \n",
    "    if (epd.getParameters().getValue(\"width_filtering\") == \"auto\"):\n",
    "          epd.filterByPeakWidth(mass_traces_split, mass_traces_final)\n",
    "    else:\n",
    "          mass_traces_final = mass_traces_split\n",
    "\n",
    "# 3) Feature detection\n",
    "    print(\"Feature Detection: \", filename)\n",
    "    feature_map_FFM = FeatureMap()\n",
    "    feat_chrom = []\n",
    "    ffm = FeatureFindingMetabo()\n",
    "    ffm_par = ffm.getDefaults() \n",
    "    ffm_par.setValue(\"isotope_filtering_model\", \"none\")\n",
    "    ffm_par.setValue(\"remove_single_traces\", \"true\")\n",
    "    ffm_par.setValue(\"mz_scoring_by_elements\", \"false\")\n",
    "    ffm_par.setValue(\"report_convex_hulls\", \"true\")\n",
    "    ffm.setParameters(ffm_par)\n",
    "    ffm.run(mass_traces_final, feature_map_FFM, feat_chrom)\n",
    "    feature_map_FFM.setUniqueIds()\n",
    "    feature_map_FFM.setPrimaryMSRunPath([filename.encode()])\n",
    "    print(filename[7:-5] + \".featureXML\")\n",
    "    FeatureXMLFile().store(os.path.join(path, os.path.basename(filename)[7:-5] + \".featureXML\"), feature_map_FFM)\n",
    "    \n",
    "print(\"Finished Feature Detection\")"
   ]
  },
  {
   "cell_type": "code",
   "execution_count": 5,
   "id": "7e8161d9-8311-452f-a82a-7103cfe5dfd1",
   "metadata": {},
   "outputs": [
    {
     "ename": "AttributeError",
     "evalue": "'pyopenms.pyopenms_4.FeatureMap' object has no attribute 'get_df'",
     "output_type": "error",
     "traceback": [
      "\u001b[0;31m---------------------------------------------------------------------------\u001b[0m",
      "\u001b[0;31mAttributeError\u001b[0m                            Traceback (most recent call last)",
      "\u001b[1;32m/Users/eeko/Desktop/pyopenms-workshop/Preprocessing.ipynb Cell 5'\u001b[0m in \u001b[0;36m<module>\u001b[0;34m\u001b[0m\n\u001b[1;32m      <a href='vscode-notebook-cell:/Users/eeko/Desktop/pyopenms-workshop/Preprocessing.ipynb#ch0000004?line=3'>4</a>\u001b[0m fmap \u001b[39m=\u001b[39m FeatureMap()\n\u001b[1;32m      <a href='vscode-notebook-cell:/Users/eeko/Desktop/pyopenms-workshop/Preprocessing.ipynb#ch0000004?line=4'>5</a>\u001b[0m FeatureXMLFile()\u001b[39m.\u001b[39mload(consensus, fmap)\n\u001b[0;32m----> <a href='vscode-notebook-cell:/Users/eeko/Desktop/pyopenms-workshop/Preprocessing.ipynb#ch0000004?line=5'>6</a>\u001b[0m DF\u001b[39m=\u001b[39m fmap\u001b[39m.\u001b[39;49mget_df()\n\u001b[1;32m      <a href='vscode-notebook-cell:/Users/eeko/Desktop/pyopenms-workshop/Preprocessing.ipynb#ch0000004?line=6'>7</a>\u001b[0m DF\u001b[39m=\u001b[39m DF\u001b[39m.\u001b[39mdrop(columns\u001b[39m=\u001b[39m[\u001b[39m\"\u001b[39m\u001b[39mID_native_id\u001b[39m\u001b[39m\"\u001b[39m, \u001b[39m\"\u001b[39m\u001b[39mpeptide_score\u001b[39m\u001b[39m\"\u001b[39m, \u001b[39m\"\u001b[39m\u001b[39mpeptide_sequence\u001b[39m\u001b[39m\"\u001b[39m, \u001b[39m\"\u001b[39m\u001b[39mID_filename\u001b[39m\u001b[39m\"\u001b[39m])\n\u001b[1;32m      <a href='vscode-notebook-cell:/Users/eeko/Desktop/pyopenms-workshop/Preprocessing.ipynb#ch0000004?line=7'>8</a>\u001b[0m DF\u001b[39m=\u001b[39mDF\u001b[39m.\u001b[39mrename(columns\u001b[39m=\u001b[39m{\u001b[39m\"\u001b[39m\u001b[39mf1\u001b[39m\u001b[39m\"\u001b[39m:\u001b[39m\"\u001b[39m\u001b[39mintensity\u001b[39m\u001b[39m\"\u001b[39m})\n",
      "\u001b[0;31mAttributeError\u001b[0m: 'pyopenms.pyopenms_4.FeatureMap' object has no attribute 'get_df'"
     ]
    }
   ],
   "source": [
    "input_features = sorted(glob.glob('results/interim/*.featureXML'))\n",
    "\n",
    "for consensus in input_features:\n",
    "    fmap = FeatureMap()\n",
    "    FeatureXMLFile().load(consensus, fmap)\n",
    "    DF= fmap.get_df()\n",
    "    DF= DF.drop(columns=[\"ID_native_id\", \"peptide_score\", \"peptide_sequence\", \"ID_filename\"])\n",
    "    DF=DF.rename(columns={\"f1\":\"intensity\"})\n",
    "print(\"example:\", os.path.basename(consensus))\n",
    "display(DF)"
   ]
  }
 ],
 "metadata": {
  "kernelspec": {
   "display_name": "Python 3 (ipykernel)",
   "language": "python",
   "name": "python3"
  },
  "language_info": {
   "codemirror_mode": {
    "name": "ipython",
    "version": 3
   },
   "file_extension": ".py",
   "mimetype": "text/x-python",
   "name": "python",
   "nbconvert_exporter": "python",
   "pygments_lexer": "ipython3",
   "version": "3.8.12"
  }
 },
 "nbformat": 4,
 "nbformat_minor": 5
}
